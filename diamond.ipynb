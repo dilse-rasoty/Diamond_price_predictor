{
  "nbformat": 4,
  "nbformat_minor": 0,
  "metadata": {
    "colab": {
      "provenance": [],
      "authorship_tag": "ABX9TyPe++RpNPiYYoKg28MYs79W",
      "include_colab_link": true
    },
    "kernelspec": {
      "name": "python3",
      "display_name": "Python 3"
    },
    "language_info": {
      "name": "python"
    }
  },
  "cells": [
    {
      "cell_type": "markdown",
      "metadata": {
        "id": "view-in-github",
        "colab_type": "text"
      },
      "source": [
        "<a href=\"https://colab.research.google.com/github/dilse-rasoty/Diamond_price_predictor/blob/main/diamond.ipynb\" target=\"_parent\"><img src=\"https://colab.research.google.com/assets/colab-badge.svg\" alt=\"Open In Colab\"/></a>"
      ]
    },
    {
      "cell_type": "code",
      "execution_count": 3,
      "metadata": {
        "colab": {
          "base_uri": "https://localhost:8080/"
        },
        "id": "yx7nu45Wv47P",
        "outputId": "3452b440-9c4f-4085-d566-fdd262608162"
      },
      "outputs": [
        {
          "name": "stdout",
          "output_type": "stream",
          "text": [
            "R-squared score: 0.9797\n",
            "Mean Squared Error: 322466.53\n",
            "\n",
            "Enter diamond properties to predict its price:\n",
            "Carat: 0.25\n",
            "Cut (Fair, Good, Very Good, Premium, Ideal): Ideal\n",
            "Color (D (best) to J (worst)): E\n",
            "Clarity (I1 (worst), SI2, SI1, VS2, VS1, VVS2, VVS1 (best)): SI1\n",
            "Depth (%): 61.5\n",
            "Table (%): 55\n",
            "x length (mm): 2.95\n",
            "y width (mm): 2.98\n",
            "z depth (mm): 3.43\n"
          ]
        },
        {
          "output_type": "stream",
          "name": "stderr",
          "text": [
            "/usr/local/lib/python3.11/dist-packages/sklearn/utils/validation.py:2739: UserWarning: X does not have valid feature names, but RandomForestRegressor was fitted with feature names\n",
            "  warnings.warn(\n"
          ]
        },
        {
          "name": "stdout",
          "output_type": "stream",
          "text": [
            "\n",
            "Predicted Diamond Price: $447.26\n",
            "\n",
            "Predict another diamond? (y/n): n\n"
          ]
        }
      ],
      "source": [
        "import pandas as pd\n",
        "import numpy as np\n",
        "from sklearn.model_selection import train_test_split\n",
        "from sklearn.ensemble import RandomForestRegressor\n",
        "from sklearn.metrics import r2_score, mean_squared_error\n",
        "from sklearn.preprocessing import LabelEncoder\n",
        "\n",
        "# Load the data\n",
        "df = pd.read_csv('test1.csv')\n",
        "\n",
        "# Drop the first column (index column)\n",
        "df = df.drop(df.columns[0], axis=1)\n",
        "\n",
        "# Convert categorical variables to numerical using Label Encoding\n",
        "label_encoders = {}\n",
        "categorical_cols = ['cut', 'color', 'clarity']\n",
        "for col in categorical_cols:\n",
        "    le = LabelEncoder()\n",
        "    df[col] = le.fit_transform(df[col])\n",
        "    label_encoders[col] = le\n",
        "\n",
        "# Prepare features and target\n",
        "X = df.drop('price', axis=1)\n",
        "y = df['price']\n",
        "\n",
        "# Split the data into training and testing sets\n",
        "X_train, X_test, y_train, y_test = train_test_split(X, y, test_size=0.2, random_state=42)\n",
        "\n",
        "# Initialize and train the model\n",
        "model = RandomForestRegressor(n_estimators=200, max_depth=10, random_state=42)\n",
        "model.fit(X_train, y_train)\n",
        "\n",
        "# Make predictions\n",
        "y_pred = model.predict(X_test)\n",
        "\n",
        "# Calculate metrics\n",
        "r2 = r2_score(y_test, y_pred)\n",
        "mse = mean_squared_error(y_test, y_pred)\n",
        "\n",
        "print(f\"R-squared score: {r2:.4f}\")\n",
        "print(f\"Mean Squared Error: {mse:.2f}\")\n",
        "\n",
        "def encode_category(encoder, category, categories):\n",
        "    \"\"\"Handle unseen categories during encoding\"\"\"\n",
        "    if category in encoder.classes_:\n",
        "        return encoder.transform([category])[0]\n",
        "    else:\n",
        "        # Assign to the most common category if unseen\n",
        "        return encoder.transform([categories[0]])[0]\n",
        "\n",
        "def predict_diamond_price():\n",
        "    print(\"\\nEnter diamond properties to predict its price:\")\n",
        "\n",
        "    # Get user input with no range limitations\n",
        "    carat = float(input(\"Carat: \"))\n",
        "    cut = input(\"Cut (Fair, Good, Very Good, Premium, Ideal): \")\n",
        "    color = input(\"Color (D (best) to J (worst)): \").upper()\n",
        "    clarity = input(\"Clarity (I1 (worst), SI2, SI1, VS2, VS1, VVS2, VVS1 (best)): \").upper()\n",
        "    depth = float(input(\"Depth (%): \"))\n",
        "    table = float(input(\"Table (%): \"))\n",
        "    x = float(input(\"x length (mm): \"))\n",
        "    y = float(input(\"y width (mm): \"))\n",
        "    z = float(input(\"z depth (mm): \"))\n",
        "\n",
        "    # Handle unseen categories\n",
        "    cut_categories = ['Fair', 'Good', 'Very Good', 'Premium', 'Ideal']\n",
        "    color_categories = ['D', 'E', 'F', 'G', 'H', 'I', 'J']\n",
        "    clarity_categories = ['I1', 'SI2', 'SI1', 'VS2', 'VS1', 'VVS2', 'VVS1']\n",
        "\n",
        "    # Encode categorical variables with unseen category handling\n",
        "    cut_encoded = encode_category(label_encoders['cut'], cut, cut_categories)\n",
        "    color_encoded = encode_category(label_encoders['color'], color, color_categories)\n",
        "    clarity_encoded = encode_category(label_encoders['clarity'], clarity, clarity_categories)\n",
        "\n",
        "    # Create feature array\n",
        "    features = [[carat, cut_encoded, color_encoded, clarity_encoded, depth, table, x, y, z]]\n",
        "\n",
        "    # Make prediction\n",
        "    predicted_price = model.predict(features)[0]\n",
        "    print(f\"\\nPredicted Diamond Price: ${predicted_price:,.2f}\")\n",
        "\n",
        "# Example usage\n",
        "while True:\n",
        "    predict_diamond_price()\n",
        "    another = input(\"\\nPredict another diamond? (y/n): \").lower()\n",
        "    if another != 'y':\n",
        "        break"
      ]
    }
  ]
}